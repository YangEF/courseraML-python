{
 "cells": [
  {
   "cell_type": "markdown",
   "metadata": {},
   "source": [
    "# Programming Exercise 2:  Logistic Regression"
   ]
  },
  {
   "cell_type": "code",
   "execution_count": 1,
   "metadata": {},
   "outputs": [],
   "source": [
    "import numpy as np\n",
    "import matplotlib.pyplot as plt\n",
    "%matplotlib inline"
   ]
  },
  {
   "cell_type": "markdown",
   "metadata": {},
   "source": [
    "## 1 Logistic Regression\n",
    "\n",
    "本部分的任务是使用 Logistic Regression 方法构建一个分类模型预测一名学生被大学录取的概率。"
   ]
  },
  {
   "cell_type": "markdown",
   "metadata": {},
   "source": [
    "### 1.1 Visualizing the data"
   ]
  },
  {
   "cell_type": "code",
   "execution_count": 2,
   "metadata": {},
   "outputs": [],
   "source": [
    "# 数据集导入\n",
    "data = np.loadtxt('data/ex2data1.txt', delimiter=',')\n",
    "# print(data)\n",
    "X = data[:,0:2]\n",
    "y = data[:,2].reshape(-1,1)\n",
    "# print(X.shape)\n",
    "# print(y.shape)\n",
    "# print(type(y))\n",
    "pos_index = np.where(y[:,0] == 1)\n",
    "neg_index = np.where(y[:,0] == 0)\n",
    "m = len(y)"
   ]
  },
  {
   "cell_type": "code",
   "execution_count": 3,
   "metadata": {},
   "outputs": [
    {
     "name": "stdout",
     "output_type": "stream",
     "text": [
      "Plotting data with + indicating (y = 1) examples and o indicating (y = 0) examples.\n"
     ]
    },
    {
     "data": {
      "image/png": "[encoded data removed]",
      "text/plain": [
       "<Figure size 720x432 with 1 Axes>"
      ]
     },
     "metadata": {
      "needs_background": "light"
     },
     "output_type": "display_data"
    }
   ],
   "source": [
    "print('Plotting data with + indicating (y = 1) examples and o indicating (y = 0) examples.')\n",
    "plt.figure(figsize=(10,6))\n",
    "plt.scatter(X[pos_index,0],X[pos_index,1],marker='+',c='k',label='Admitted')\n",
    "plt.scatter(X[neg_index,0],X[neg_index,1],marker='o',c='y',label='Not Admitted')\n",
    "plt.xlabel('Exam 1 score')\n",
    "plt.ylabel('Exam 2 score')\n",
    "plt.legend()\n",
    "plt.grid()\n",
    "plt.show()"
   ]
  },
  {
   "cell_type": "markdown",
   "metadata": {},
   "source": [
    "### 1.2 Implementation"
   ]
  },
  {
   "cell_type": "markdown",
   "metadata": {},
   "source": [
    "### 1.2.1 Warmup exercise: sigmoid function"
   ]
  },
  {
   "cell_type": "code",
   "execution_count": 4,
   "metadata": {},
   "outputs": [],
   "source": [
    "def sigmoid(x):\n",
    "    return 1 / (1 + np.exp(-x))\n",
    "# from scipy.special import expit # do the same thing"
   ]
  },
  {
   "cell_type": "code",
   "execution_count": 5,
   "metadata": {},
   "outputs": [
    {
     "data": {
      "image/png": "[encoded data removed]",
      "text/plain": [
       "<Figure size 432x288 with 1 Axes>"
      ]
     },
     "metadata": {
      "needs_background": "light"
     },
     "output_type": "display_data"
    }
   ],
   "source": [
    "sigmoid_x = np.arange(-10,10,0.1)\n",
    "plt.figure()\n",
    "plt.plot(sigmoid_x,sigmoid(sigmoid_x))\n",
    "plt.grid()\n",
    "plt.show()"
   ]
  },
  {
   "cell_type": "markdown",
   "metadata": {},
   "source": [
    "### 1.2.2 Cost function and gradient"
   ]
  },
  {
   "cell_type": "code",
   "execution_count": 6,
   "metadata": {},
   "outputs": [],
   "source": [
    "X = np.concatenate((np.ones((m,1)), X), axis=1) #  Add a column of ones to X\n",
    "initial_theta = np.zeros((len(X[0]+1),1)) # initialize fitting parameters"
   ]
  },
  {
   "cell_type": "code",
   "execution_count": 7,
   "metadata": {},
   "outputs": [],
   "source": [
    "def hypFunction(X,theta):\n",
    "    return sigmoid(np.dot(X,theta))\n",
    "def costFunction(theta, X, y):\n",
    "    J = 0\n",
    "    theta = theta.reshape(-1,1)\n",
    "    \n",
    "    J = 1. / m * np.sum(((-y)*np.log(hypFunction(X,theta)) \n",
    "                         - (1 - y)*np.log(1 - hypFunction(X,theta))), axis=0)\n",
    "    return J\n",
    "def gradient(theta, X, y):\n",
    "    theta = theta.reshape(-1,1)\n",
    "    grad = np.zeros(theta.shape)\n",
    "    \n",
    "    grad = 1. /m * np.sum(((hypFunction(X,theta) - y)*X), axis=0)\n",
    "    grad = grad.reshape(theta.shape)\n",
    "    return grad"
   ]
  },
  {
   "cell_type": "code",
   "execution_count": 8,
   "metadata": {},
   "outputs": [
    {
     "name": "stdout",
     "output_type": "stream",
     "text": [
      "Cost at initial theta (zeros):  [0.69314718]\n",
      "Expected cost (approx): 0.693\n",
      "Gradient at initial theta (zeros):\n",
      " [[ -0.1       ]\n",
      " [-12.00921659]\n",
      " [-11.26284221]]\n",
      "Expected gradients (approx):\n",
      " -0.1000\n",
      " -12.0092\n",
      " -11.2628\n",
      "\n",
      "Cost at test theta:  [0.21833019]\n",
      "Expected cost (approx): 0.218\n",
      "Gradient at test theta:\n",
      " [[0.04290299]\n",
      " [2.56623412]\n",
      " [2.64679737]]\n",
      "Expected gradients (approx):\n",
      " 0.043\n",
      " 2.566\n",
      " 2.647\n",
      "\n"
     ]
    }
   ],
   "source": [
    "# Compute and display initial cost and gradient\n",
    "cost = costFunction(initial_theta, X, y)\n",
    "grad = gradient(initial_theta, X, y)\n",
    "print('Cost at initial theta (zeros): ', cost)\n",
    "print('Expected cost (approx): 0.693')\n",
    "print('Gradient at initial theta (zeros):\\n', grad)\n",
    "print('Expected gradients (approx):\\n -0.1000\\n -12.0092\\n -11.2628\\n')\n",
    "\n",
    "# Compute and display cost and gradient with non-zero theta\n",
    "test_theta = np.array([-24,0.2,0.2]).reshape(3,1)\n",
    "cost = costFunction(test_theta, X, y)\n",
    "grad = gradient(test_theta, X, y)\n",
    "print('Cost at test theta: ', cost)\n",
    "print('Expected cost (approx): 0.218')\n",
    "print('Gradient at test theta:\\n', grad)\n",
    "print('Expected gradients (approx):\\n 0.043\\n 2.566\\n 2.647\\n')"
   ]
  },
  {
   "cell_type": "markdown",
   "metadata": {},
   "source": [
    "### 1.2.3 Learning parameter using `fminnuc`\n",
    "\n",
    "https://docs.scipy.org/doc/scipy/reference/generated/scipy.optimize.minimize.html\n",
    "\n",
    "http://docs.scipy.org/doc/scipy-0.16.0/reference/generated/scipy.optimize.fmin.html"
   ]
  },
  {
   "cell_type": "code",
   "execution_count": 9,
   "metadata": {},
   "outputs": [],
   "source": [
    "from scipy import optimize\n",
    "\n",
    "def optimizeFunction(theta, X, y):\n",
    "#     result=optimize.minimize(fun=costFunction,x0=theta.reshape(1,-1),args=(X,y),\n",
    "#                        method='TNC',jac=gradient,options={'maxiter':400})\n",
    "    result = optimize.fmin(costFunction, x0=theta.reshape(1,-1), args=(X,y), \n",
    "                           maxiter=400, full_output=True)\n",
    "    return result"
   ]
  },
  {
   "cell_type": "code",
   "execution_count": 10,
   "metadata": {
    "scrolled": true
   },
   "outputs": [
    {
     "name": "stdout",
     "output_type": "stream",
     "text": [
      "Optimization terminated successfully.\n",
      "         Current function value: 0.203498\n",
      "         Iterations: 157\n",
      "         Function evaluations: 287\n"
     ]
    }
   ],
   "source": [
    "result = optimizeFunction(initial_theta,X,y)\n",
    "theta = result[0].reshape(-1,1)\n",
    "cost = result[1]"
   ]
  },
  {
   "cell_type": "code",
   "execution_count": 11,
   "metadata": {},
   "outputs": [
    {
     "name": "stdout",
     "output_type": "stream",
     "text": [
      "Cost at theta found by fminunc:  0.20349770159021513\n",
      "Expected cost (approx): 0.203\n",
      "theta: \n",
      "[[-25.16130062]\n",
      " [  0.20623142]\n",
      " [  0.20147143]]\n",
      "Expected theta (approx):\n",
      " -25.161\n",
      " 0.206\n",
      " 0.201\n",
      "\n"
     ]
    }
   ],
   "source": [
    "# Print theta to screen\n",
    "print('Cost at theta found by fminunc: ', cost)\n",
    "print('Expected cost (approx): 0.203')\n",
    "print('theta: ')\n",
    "print(theta)\n",
    "print('Expected theta (approx):')\n",
    "print(' -25.161\\n 0.206\\n 0.201\\n')"
   ]
  },
  {
   "cell_type": "code",
   "execution_count": 12,
   "metadata": {},
   "outputs": [
    {
     "data": {
      "image/png": "[encoded data removed]",
      "text/plain": [
       "<Figure size 720x432 with 1 Axes>"
      ]
     },
     "metadata": {
      "needs_background": "light"
     },
     "output_type": "display_data"
    }
   ],
   "source": [
    "plot_x = np.arange(min(X[:,1])-2,max(X[:,2])+2,1)\n",
    "plot_y = (-theta[0]-theta[1]*plot_x)/theta[2]\n",
    "# Plot Boundary\n",
    "plt.figure(figsize=(10,6))\n",
    "plt.scatter(X[pos_index,1],X[pos_index,2],marker='+',c='k',label='Admitted')\n",
    "plt.scatter(X[neg_index,1],X[neg_index,2],marker='o',c='y',label='Not Admitted')\n",
    "plt.plot(plot_x, plot_y)\n",
    "plt.xlabel('Exam 1 score')\n",
    "plt.ylabel('Exam 2 score')\n",
    "plt.legend()\n",
    "plt.grid()\n",
    "plt.show()"
   ]
  },
  {
   "cell_type": "markdown",
   "metadata": {},
   "source": [
    "## 2 Regularized Logistic Regression"
   ]
  },
  {
   "cell_type": "markdown",
   "metadata": {},
   "source": [
    "### 2.1 Visualizing the data"
   ]
  },
  {
   "cell_type": "code",
   "execution_count": 13,
   "metadata": {},
   "outputs": [],
   "source": [
    "# 数据集导入\n",
    "data = np.loadtxt('data/ex2data2.txt', delimiter=',')\n",
    "# print(data)\n",
    "X = data[:,0:2]\n",
    "y = data[:,2].reshape(-1,1)\n",
    "# print(X)\n",
    "# print(y)\n",
    "pos_index = np.where(y[:,0] == 1)\n",
    "neg_index = np.where(y[:,0] == 0)\n",
    "m = len(y)"
   ]
  },
  {
   "cell_type": "code",
   "execution_count": 14,
   "metadata": {},
   "outputs": [
    {
     "data": {
      "image/png": "[encoded data removed]",
      "text/plain": [
       "<Figure size 540x432 with 1 Axes>"
      ]
     },
     "metadata": {
      "needs_background": "light"
     },
     "output_type": "display_data"
    }
   ],
   "source": [
    "plt.figure(figsize=(7.5,6))\n",
    "plt.scatter(X[pos_index,0],X[pos_index,1],marker='+',c='k',label='y = 1')\n",
    "plt.scatter(X[neg_index,0],X[neg_index,1],marker='o',c='y',label='y = 0')\n",
    "plt.xlabel('Microchip Test 1')\n",
    "plt.ylabel('Microchip Test 2')\n",
    "plt.legend()\n",
    "plt.grid()\n",
    "plt.show()"
   ]
  },
  {
   "cell_type": "markdown",
   "metadata": {},
   "source": [
    "### 2.2 Feature mapping"
   ]
  },
  {
   "cell_type": "code",
   "execution_count": 15,
   "metadata": {},
   "outputs": [],
   "source": [
    "# MAPFEATURE Feature mapping function to polynomial features\n",
    "#\n",
    "#   MAPFEATURE(X1, X2) maps the two input features\n",
    "#   to quadratic features used in the regularization exercise.\n",
    "#\n",
    "#   Returns a new feature array with more features, comprising of \n",
    "#   X1, X2, X1.^2, X2.^2, X1*X2, X1*X2.^2, etc..\n",
    "#\n",
    "#   Inputs X1, X2 must be the same size\n",
    "def mapFeature(X1, X2):\n",
    "    degree = 6\n",
    "    out = np.ones((len(X1),1))\n",
    "    for i in range(1,degree+1):\n",
    "        for j in range(0,i+1):\n",
    "            temp = (X1**(i-j) * X2**(j)).reshape(-1,1)\n",
    "            out = np.concatenate((out, temp), axis=1)\n",
    "    return out"
   ]
  },
  {
   "cell_type": "code",
   "execution_count": 16,
   "metadata": {},
   "outputs": [
    {
     "name": "stdout",
     "output_type": "stream",
     "text": [
      "[[ 1.00000000e+00  5.12670000e-02  6.99560000e-01 ...  6.29470940e-04\n",
      "   8.58939846e-03  1.17205992e-01]\n",
      " [ 1.00000000e+00 -9.27420000e-02  6.84940000e-01 ...  1.89305413e-03\n",
      "  -1.39810280e-02  1.03255971e-01]\n",
      " [ 1.00000000e+00 -2.13710000e-01  6.92250000e-01 ...  1.04882142e-02\n",
      "  -3.39734512e-02  1.10046893e-01]\n",
      " ...\n",
      " [ 1.00000000e+00 -4.84450000e-01  9.99270000e-01 ...  2.34007252e-01\n",
      "  -4.82684337e-01  9.95627986e-01]\n",
      " [ 1.00000000e+00 -6.33640000e-03  9.99270000e-01 ...  4.00328554e-05\n",
      "  -6.31330588e-03  9.95627986e-01]\n",
      " [ 1.00000000e+00  6.32650000e-01 -3.06120000e-02 ...  3.51474517e-07\n",
      "  -1.70067777e-08  8.22905998e-10]]\n",
      "(118, 28)\n"
     ]
    }
   ],
   "source": [
    "train_X = mapFeature(X[:,0], X[:,1])\n",
    "print(train_X)\n",
    "print(train_X.shape)"
   ]
  },
  {
   "cell_type": "markdown",
   "metadata": {},
   "source": [
    "### 2.3 Cost function and gradient"
   ]
  },
  {
   "cell_type": "code",
   "execution_count": 17,
   "metadata": {},
   "outputs": [],
   "source": [
    "initial_theta = np.zeros((len(train_X[0]),1))"
   ]
  },
  {
   "cell_type": "code",
   "execution_count": 18,
   "metadata": {},
   "outputs": [],
   "source": [
    "def hypFunction(X,theta):\n",
    "    return sigmoid(np.dot(X,theta))\n",
    "def costFunction(theta, X, y, mylembda=0):\n",
    "    J = 0\n",
    "    m = len(y)\n",
    "    theta = theta.reshape(-1,1)\n",
    "    \n",
    "    J = 1. / m * np.sum(((-y)*np.log(hypFunction(X,theta)) \n",
    "                         - (1 - y)*np.log(1 - hypFunction(X,theta))), axis=0)\n",
    "    regular = mylembda / (2*m) *np.sum(theta**2, axis=0)\n",
    "    J = J + regular\n",
    "    return J\n",
    "# def gradient(theta, X, y):\n",
    "#     theta = theta.reshape(-1,1)\n",
    "#     grad = np.zeros(theta.shape)\n",
    "    \n",
    "#     grad = 1. /m * np.sum(((hypFunction(X,theta) - y)*X), axis=0)\n",
    "#     grad = grad.reshape(theta.shape)\n",
    "#     return grad"
   ]
  },
  {
   "cell_type": "code",
   "execution_count": 19,
   "metadata": {},
   "outputs": [
    {
     "data": {
      "text/plain": [
       "array([0.69314718])"
      ]
     },
     "execution_count": 19,
     "metadata": {},
     "output_type": "execute_result"
    }
   ],
   "source": [
    "costFunction(initial_theta,train_X,y)"
   ]
  },
  {
   "cell_type": "code",
   "execution_count": 20,
   "metadata": {},
   "outputs": [],
   "source": [
    "from scipy import optimize\n",
    "\n",
    "def optimizeRegularFunction(theta, X, y, mylambda=0):\n",
    "    result=optimize.minimize(fun=costFunction,x0=theta.reshape(1,-1),args=(X,y,mylambda),\n",
    "                       method='BFGS',options={'maxiter':400})\n",
    "#     result = optimize.fmin(costFunction, x0=theta.reshape(1,-1), args=(X,y), \n",
    "#                            maxiter=400, full_output=True)\n",
    "    return result"
   ]
  },
  {
   "cell_type": "code",
   "execution_count": 21,
   "metadata": {},
   "outputs": [
    {
     "data": {
      "text/plain": [
       "      fun: 0.2634988392649425\n",
       " hess_inv: array([[ 3.45619432e+03,  3.42598299e+03,  4.41230331e+03,\n",
       "        -2.97562584e+04, -6.27258915e+03, -2.07546537e+04,\n",
       "        -1.91712682e+04, -2.21472965e+04, -8.66789296e+03,\n",
       "        -1.71783876e+04,  8.02079866e+04,  4.31447187e+04,\n",
       "         1.16243540e+05,  2.18253527e+04,  4.25139955e+04,\n",
       "         2.51551292e+04,  3.15136943e+04,  2.95732302e+04,\n",
       "         2.44994964e+04, -1.03408730e+04,  1.41264454e+04,\n",
       "        -6.81292647e+04, -5.74791825e+04, -1.51264923e+05,\n",
       "        -6.63982648e+04, -9.41518998e+04,  1.03311185e+03,\n",
       "        -2.64511154e+04],\n",
       "       [ 3.42598299e+03,  5.39757421e+03,  3.70118574e+03,\n",
       "        -2.89281706e+04, -5.74705864e+03, -2.01613655e+04,\n",
       "        -2.76998277e+04, -1.67652010e+04, -1.18500377e+04,\n",
       "        -1.59911293e+04,  7.97380636e+04,  4.63636566e+04,\n",
       "         1.15892484e+05,  1.79850900e+04,  3.98792091e+04,\n",
       "         3.42273745e+04,  2.20007098e+04,  3.07142972e+04,\n",
       "         1.57233404e+04, -6.33102365e+03,  1.72129873e+04,\n",
       "        -7.07750542e+04, -5.74734618e+04, -1.44176870e+05,\n",
       "        -6.56971916e+04, -9.42323184e+04,  1.81196810e+03,\n",
       "        -2.77282649e+04],\n",
       "       [ 4.41230331e+03,  3.70118574e+03,  9.31094607e+03,\n",
       "        -3.63835691e+04, -7.02543766e+03, -2.65301015e+04,\n",
       "        -1.89033771e+04, -4.33960024e+04, -1.41405949e+04,\n",
       "        -3.48305143e+04,  9.02283300e+04,  5.33147304e+04,\n",
       "         1.64380965e+05,  3.65627628e+04,  5.95091182e+04,\n",
       "         2.17947711e+04,  6.10786666e+04,  5.71919993e+04,\n",
       "         5.02295585e+04, -3.13844685e+04,  2.07100151e+04,\n",
       "        -6.68031152e+04, -7.70353264e+04, -2.28649584e+05,\n",
       "        -1.12011859e+05, -1.34848588e+05,  1.62073566e+04,\n",
       "        -3.20146962e+04],\n",
       "       [-2.97562584e+04, -2.89281706e+04, -3.63835691e+04,\n",
       "         2.77203657e+05,  5.72556150e+04,  1.77458170e+05,\n",
       "         1.75950363e+05,  1.88770367e+05,  6.29779472e+04,\n",
       "         1.43792880e+05, -7.88583640e+05, -3.99722042e+05,\n",
       "        -1.05350784e+06, -1.94360373e+05, -3.63962968e+05,\n",
       "        -2.45965961e+05, -2.69472614e+05, -2.44047172e+05,\n",
       "        -2.22603647e+05,  8.96596860e+04, -1.26008812e+05,\n",
       "         7.04251935e+05,  5.43354272e+05,  1.38280473e+06,\n",
       "         5.92496991e+05,  8.90967442e+05,  1.79188011e+04,\n",
       "         2.35104269e+05],\n",
       "       [-6.27258915e+03, -5.74705864e+03, -7.02543766e+03,\n",
       "         5.72556150e+04,  2.01081161e+04,  3.76740595e+04,\n",
       "         3.71627388e+04,  3.64731081e+04,  1.66253303e+04,\n",
       "         3.19796785e+04, -1.57282880e+05, -8.52180216e+04,\n",
       "        -2.16080551e+05, -5.68875056e+04, -7.58445749e+04,\n",
       "        -5.29846948e+04, -4.69052354e+04, -3.79455312e+04,\n",
       "        -3.38954708e+04,  6.76863879e+03, -3.80365662e+04,\n",
       "         1.34398470e+05,  9.30035511e+04,  2.77028142e+05,\n",
       "         9.60394557e+04,  1.53422029e+05,  1.40794590e+04,\n",
       "         5.70327277e+04],\n",
       "       [-2.07546537e+04, -2.01613655e+04, -2.65301015e+04,\n",
       "         1.77458170e+05,  3.76740595e+04,  1.43144634e+05,\n",
       "         1.15146051e+05,  1.39811482e+05,  5.90318705e+04,\n",
       "         1.15054868e+05, -4.80847411e+05, -2.74618375e+05,\n",
       "        -7.62593863e+05, -1.44062926e+05, -3.19659933e+05,\n",
       "        -1.54138465e+05, -2.28199201e+05, -2.19741261e+05,\n",
       "        -1.51526959e+05,  8.33365091e+04, -9.53274194e+04,\n",
       "         4.12165595e+05,  4.01314217e+05,  1.01529247e+06,\n",
       "         4.41559017e+05,  6.33509387e+05, -2.46116912e+04,\n",
       "         2.03252944e+05],\n",
       "       [-1.91712682e+04, -2.76998277e+04, -1.89033771e+04,\n",
       "         1.75950363e+05,  3.71627388e+04,  1.15146051e+05,\n",
       "         1.71801733e+05,  8.70589338e+04,  4.25455069e+04,\n",
       "         8.86668876e+04, -5.22335537e+05, -2.88770943e+05,\n",
       "        -7.08219784e+05, -1.07043463e+05, -2.30361639e+05,\n",
       "        -2.47691370e+05, -1.30337857e+05, -1.51417258e+05,\n",
       "        -9.25712952e+04,  4.05084122e+04, -1.12286891e+05,\n",
       "         5.07560947e+05,  3.80650721e+05,  9.11042904e+05,\n",
       "         3.90256409e+05,  6.20783601e+05,  1.88247254e+04,\n",
       "         1.76004968e+05],\n",
       "       [-2.21472965e+04, -1.67652010e+04, -4.33960024e+04,\n",
       "         1.88770367e+05,  3.64731081e+04,  1.39811482e+05,\n",
       "         8.70589338e+04,  2.59903592e+05,  5.79315941e+04,\n",
       "         1.51389094e+05, -4.67484276e+05, -2.96585950e+05,\n",
       "        -8.71719254e+05, -1.66545072e+05, -3.08121665e+05,\n",
       "        -9.60136931e+04, -3.69277243e+05, -3.16615624e+05,\n",
       "        -3.45493634e+05,  1.95091949e+05, -6.03507732e+04,\n",
       "         3.42250532e+05,  4.41178538e+05,  1.21189090e+06,\n",
       "         6.21485709e+05,  7.73520565e+05, -1.33138386e+05,\n",
       "         1.38700634e+05],\n",
       "       [-8.66789296e+03, -1.18500377e+04, -1.41405949e+04,\n",
       "         6.29779472e+04,  1.66253303e+04,  5.90318705e+04,\n",
       "         4.25455069e+04,  5.79315941e+04,  7.18879854e+04,\n",
       "         6.63230145e+04, -1.35843732e+05, -9.08956332e+04,\n",
       "        -2.84556362e+05, -8.16940916e+04, -1.35976698e+05,\n",
       "        -3.08903102e+04, -6.63258953e+04, -1.15352140e+05,\n",
       "        -2.87593969e+04,  3.14593642e+03, -5.28771979e+04,\n",
       "         7.16083610e+04,  7.43923429e+04,  3.53823687e+05,\n",
       "         1.80370408e+05,  1.41283391e+05, -3.42393243e+04,\n",
       "         8.20050104e+04],\n",
       "       [-1.71783876e+04, -1.59911293e+04, -3.48305143e+04,\n",
       "         1.43792880e+05,  3.19796785e+04,  1.15054868e+05,\n",
       "         8.86668876e+04,  1.51389094e+05,  6.63230145e+04,\n",
       "         1.57916688e+05, -3.67913463e+05, -2.17536435e+05,\n",
       "        -7.05494719e+05, -1.77012420e+05, -2.81211797e+05,\n",
       "        -1.13335659e+05, -2.45918148e+05, -2.47980959e+05,\n",
       "        -1.47110506e+05,  1.25034340e+05, -1.35906321e+05,\n",
       "         2.85757673e+05,  3.28744181e+05,  1.00317558e+06,\n",
       "         4.61741640e+05,  5.61251295e+05, -4.59975853e+04,\n",
       "         1.94298946e+05],\n",
       "       [ 8.02079866e+04,  7.97380636e+04,  9.02283300e+04,\n",
       "        -7.88583640e+05, -1.57282880e+05, -4.80847411e+05,\n",
       "        -5.22335537e+05, -4.67484276e+05, -1.35843732e+05,\n",
       "        -3.67913463e+05,  2.37136504e+06,  1.15833624e+06,\n",
       "         2.96401208e+06,  5.13407145e+05,  9.88074799e+05,\n",
       "         7.78263651e+05,  6.87809899e+05,  6.31128607e+05,\n",
       "         5.88136298e+05, -2.34979825e+05,  3.54396611e+05,\n",
       "        -2.24870795e+06, -1.63145165e+06, -3.91675524e+06,\n",
       "        -1.63447721e+06, -2.64471277e+06, -1.24112490e+05,\n",
       "        -6.68958210e+05],\n",
       "       [ 4.31447187e+04,  4.63636566e+04,  5.33147304e+04,\n",
       "        -3.99722042e+05, -8.52180216e+04, -2.74618375e+05,\n",
       "        -2.88770943e+05, -2.96585950e+05, -9.08956332e+04,\n",
       "        -2.17536435e+05,  1.15833624e+06,  6.55991095e+05,\n",
       "         1.66422290e+06,  2.72829276e+05,  5.83455207e+05,\n",
       "         4.12062891e+05,  4.48663137e+05,  4.32413445e+05,\n",
       "         3.71427166e+05, -1.94414770e+05,  1.85880317e+05,\n",
       "        -1.08137450e+06, -9.48272331e+05, -2.18491425e+06,\n",
       "        -9.32476292e+05, -1.51535409e+06,  3.20125368e+04,\n",
       "        -3.73416789e+05],\n",
       "       [ 1.16243540e+05,  1.15892484e+05,  1.64380965e+05,\n",
       "        -1.05350784e+06, -2.16080551e+05, -7.62593863e+05,\n",
       "        -7.08219784e+05, -8.71719254e+05, -2.84556362e+05,\n",
       "        -7.05494719e+05,  2.96401208e+06,  1.66422290e+06,\n",
       "         4.59525841e+06,  8.52720870e+05,  1.69775544e+06,\n",
       "         9.95147888e+05,  1.39629430e+06,  1.33374784e+06,\n",
       "         1.03477517e+06, -6.35014186e+05,  6.04568763e+05,\n",
       "        -2.65689454e+06, -2.49037434e+06, -6.22630577e+06,\n",
       "        -2.77548027e+06, -4.05938109e+06,  1.68666457e+05,\n",
       "        -1.11105311e+06],\n",
       "       [ 2.18253527e+04,  1.79850900e+04,  3.65627628e+04,\n",
       "        -1.94360373e+05, -5.68875056e+04, -1.44062926e+05,\n",
       "        -1.07043463e+05, -1.66545072e+05, -8.16940916e+04,\n",
       "        -1.77012420e+05,  5.13407145e+05,  2.72829276e+05,\n",
       "         8.52720870e+05,  2.52298953e+05,  3.41459038e+05,\n",
       "         1.44021510e+05,  2.55350779e+05,  2.21518466e+05,\n",
       "         1.34578175e+05, -9.21117093e+04,  1.82033810e+05,\n",
       "        -4.03759833e+05, -3.61224940e+05, -1.17734667e+06,\n",
       "        -4.57429992e+05, -5.99050821e+05, -1.82513867e+04,\n",
       "        -2.60052235e+05],\n",
       "       [ 4.25139955e+04,  3.98792091e+04,  5.95091182e+04,\n",
       "        -3.63962968e+05, -7.58445749e+04, -3.19659933e+05,\n",
       "        -2.30361639e+05, -3.08121665e+05, -1.35976698e+05,\n",
       "        -2.81211797e+05,  9.88074799e+05,  5.83455207e+05,\n",
       "         1.69775544e+06,  3.41459038e+05,  7.69324071e+05,\n",
       "         3.10543548e+05,  5.53786064e+05,  5.43398311e+05,\n",
       "         3.15045485e+05, -2.33512520e+05,  2.40451200e+05,\n",
       "        -8.43500856e+05, -9.26789657e+05, -2.32733648e+06,\n",
       "        -9.99687455e+05, -1.43538023e+06,  7.46289197e+04,\n",
       "        -5.11471340e+05],\n",
       "       [ 2.51551292e+04,  3.42273745e+04,  2.17947711e+04,\n",
       "        -2.45965961e+05, -5.29846948e+04, -1.54138465e+05,\n",
       "        -2.47691370e+05, -9.60136931e+04, -3.08903102e+04,\n",
       "        -1.13335659e+05,  7.78263651e+05,  4.12062891e+05,\n",
       "         9.95147888e+05,  1.44021510e+05,  3.10543548e+05,\n",
       "         4.05018202e+05,  1.68948083e+05,  1.47035803e+05,\n",
       "         1.00436001e+05, -4.17887828e+04,  1.69621320e+05,\n",
       "        -8.17691152e+05, -5.73428577e+05, -1.29550389e+06,\n",
       "        -5.09509430e+05, -9.17100404e+05, -7.44704023e+04,\n",
       "        -2.59654828e+05],\n",
       "       [ 3.15136943e+04,  2.20007098e+04,  6.10786666e+04,\n",
       "        -2.69472614e+05, -4.69052354e+04, -2.28199201e+05,\n",
       "        -1.30337857e+05, -3.69277243e+05, -6.63258953e+04,\n",
       "        -2.45918148e+05,  6.87809899e+05,  4.48663137e+05,\n",
       "         1.39629430e+06,  2.55350779e+05,  5.53786064e+05,\n",
       "         1.68948083e+05,  6.38717867e+05,  5.39260532e+05,\n",
       "         4.76004285e+05, -3.56587148e+05,  1.44732743e+05,\n",
       "        -5.41412426e+05, -7.98221061e+05, -2.01161917e+06,\n",
       "        -9.94272154e+05, -1.33042591e+06,  2.05204445e+05,\n",
       "        -3.13942766e+05],\n",
       "       [ 2.95732302e+04,  3.07142972e+04,  5.71919993e+04,\n",
       "        -2.44047172e+05, -3.79455312e+04, -2.19741261e+05,\n",
       "        -1.51417258e+05, -3.16615624e+05, -1.15352140e+05,\n",
       "        -2.47980959e+05,  6.31128607e+05,  4.32413445e+05,\n",
       "         1.33374784e+06,  2.21518466e+05,  5.43398311e+05,\n",
       "         1.47035803e+05,  5.39260532e+05,  8.35968565e+05,\n",
       "         5.54688200e+05, -4.08982566e+05,  1.23294970e+05,\n",
       "        -4.94169951e+05, -7.11497333e+05, -2.07518287e+06,\n",
       "        -1.32334318e+06, -1.35108107e+06,  3.79991747e+05,\n",
       "        -2.74795373e+05],\n",
       "       [ 2.44994964e+04,  1.57233404e+04,  5.02295585e+04,\n",
       "        -2.22603647e+05, -3.38954708e+04, -1.51526959e+05,\n",
       "        -9.25712952e+04, -3.45493634e+05, -2.87593969e+04,\n",
       "        -1.47110506e+05,  5.88136298e+05,  3.71427166e+05,\n",
       "         1.03477517e+06,  1.34578175e+05,  3.15045485e+05,\n",
       "         1.00436001e+05,  4.76004285e+05,  5.54688200e+05,\n",
       "         6.76051397e+05, -3.50633516e+05, -4.03460338e+04,\n",
       "        -4.70284419e+05, -5.77524571e+05, -1.59486000e+06,\n",
       "        -1.05581072e+06, -1.13417102e+06,  3.25771727e+05,\n",
       "        -4.01074116e+04],\n",
       "       [-1.03408730e+04, -6.33102365e+03, -3.13844685e+04,\n",
       "         8.96596860e+04,  6.76863879e+03,  8.33365091e+04,\n",
       "         4.05084122e+04,  1.95091949e+05,  3.14593642e+03,\n",
       "         1.25034340e+05, -2.34979825e+05, -1.94414770e+05,\n",
       "        -6.35014186e+05, -9.21117093e+04, -2.33512520e+05,\n",
       "        -4.17887828e+04, -3.56587148e+05, -4.08982566e+05,\n",
       "        -3.50633516e+05,  3.07588425e+05, -4.44885504e+04,\n",
       "         1.94176076e+05,  4.42301602e+05,  1.04834033e+06,\n",
       "         6.32387741e+05,  7.77637897e+05, -2.08729360e+05,\n",
       "         1.11294820e+05],\n",
       "       [ 1.41264454e+04,  1.72129873e+04,  2.07100151e+04,\n",
       "        -1.26008812e+05, -3.80365662e+04, -9.53274194e+04,\n",
       "        -1.12286891e+05, -6.03507732e+04, -5.28771979e+04,\n",
       "        -1.35906321e+05,  3.54396611e+05,  1.85880317e+05,\n",
       "         6.04568763e+05,  1.82033810e+05,  2.40451200e+05,\n",
       "         1.69621320e+05,  1.44732743e+05,  1.23294970e+05,\n",
       "        -4.03460338e+04, -4.44885504e+04,  2.11293589e+05,\n",
       "        -3.17500220e+05, -2.68586339e+05, -8.30313327e+05,\n",
       "        -2.64811583e+05, -4.19676948e+05, -7.58230419e+04,\n",
       "        -2.57845277e+05],\n",
       "       [-6.81292647e+04, -7.07750542e+04, -6.68031152e+04,\n",
       "         7.04251935e+05,  1.34398470e+05,  4.12165595e+05,\n",
       "         5.07560947e+05,  3.42250532e+05,  7.16083610e+04,\n",
       "         2.85757673e+05, -2.24870795e+06, -1.08137450e+06,\n",
       "        -2.65689454e+06, -4.03759833e+05, -8.43500856e+05,\n",
       "        -8.17691152e+05, -5.41412426e+05, -4.94169951e+05,\n",
       "        -4.70284419e+05,  1.94176076e+05, -3.17500220e+05,\n",
       "         2.29519599e+06,  1.60679690e+06,  3.50527209e+06,\n",
       "         1.39805406e+06,  2.54300845e+06,  1.81828801e+05,\n",
       "         6.06175309e+05],\n",
       "       [-5.74791825e+04, -5.74734618e+04, -7.70353264e+04,\n",
       "         5.43354272e+05,  9.30035511e+04,  4.01314217e+05,\n",
       "         3.80650721e+05,  4.41178538e+05,  7.43923429e+04,\n",
       "         3.28744181e+05, -1.63145165e+06, -9.48272331e+05,\n",
       "        -2.49037434e+06, -3.61224940e+05, -9.26789657e+05,\n",
       "        -5.73428577e+05, -7.98221061e+05, -7.11497333e+05,\n",
       "        -5.77524571e+05,  4.42301602e+05, -2.68586339e+05,\n",
       "         1.60679690e+06,  1.66276332e+06,  3.35545314e+06,\n",
       "         1.37983509e+06,  2.51883102e+06, -8.13412607e+04,\n",
       "         6.08240436e+05],\n",
       "       [-1.51264923e+05, -1.44176870e+05, -2.28649584e+05,\n",
       "         1.38280473e+06,  2.77028142e+05,  1.01529247e+06,\n",
       "         9.11042904e+05,  1.21189090e+06,  3.53823687e+05,\n",
       "         1.00317558e+06, -3.91675524e+06, -2.18491425e+06,\n",
       "        -6.22630577e+06, -1.17734667e+06, -2.32733648e+06,\n",
       "        -1.29550389e+06, -2.01161917e+06, -2.07518287e+06,\n",
       "        -1.59486000e+06,  1.04834033e+06, -8.30313327e+05,\n",
       "         3.50527209e+06,  3.35545314e+06,  8.80757549e+06,\n",
       "         4.21047516e+06,  5.66851583e+06, -3.99651968e+05,\n",
       "         1.51048424e+06],\n",
       "       [-6.63982648e+04, -6.56971916e+04, -1.12011859e+05,\n",
       "         5.92496991e+05,  9.60394557e+04,  4.41559017e+05,\n",
       "         3.90256409e+05,  6.21485709e+05,  1.80370408e+05,\n",
       "         4.61741640e+05, -1.63447721e+06, -9.32476292e+05,\n",
       "        -2.77548027e+06, -4.57429992e+05, -9.99687455e+05,\n",
       "        -5.09509430e+05, -9.94272154e+05, -1.32334318e+06,\n",
       "        -1.05581072e+06,  6.32387741e+05, -2.64811583e+05,\n",
       "         1.39805406e+06,  1.37983509e+06,  4.21047516e+06,\n",
       "         2.56437442e+06,  2.68465791e+06, -5.32713486e+05,\n",
       "         5.16885630e+05],\n",
       "       [-9.41518998e+04, -9.42323184e+04, -1.34848588e+05,\n",
       "         8.90967442e+05,  1.53422029e+05,  6.33509387e+05,\n",
       "         6.20783601e+05,  7.73520565e+05,  1.41283391e+05,\n",
       "         5.61251295e+05, -2.64471277e+06, -1.51535409e+06,\n",
       "        -4.05938109e+06, -5.99050821e+05, -1.43538023e+06,\n",
       "        -9.17100404e+05, -1.33042591e+06, -1.35108107e+06,\n",
       "        -1.13417102e+06,  7.77637897e+05, -4.19676948e+05,\n",
       "         2.54300845e+06,  2.51883102e+06,  5.66851583e+06,\n",
       "         2.68465791e+06,  4.10347207e+06, -3.03560652e+05,\n",
       "         8.88847444e+05],\n",
       "       [ 1.03311185e+03,  1.81196810e+03,  1.62073566e+04,\n",
       "         1.79188011e+04,  1.40794590e+04, -2.46116912e+04,\n",
       "         1.88247254e+04, -1.33138386e+05, -3.42393243e+04,\n",
       "        -4.59975853e+04, -1.24112490e+05,  3.20125368e+04,\n",
       "         1.68666457e+05, -1.82513867e+04,  7.46289197e+04,\n",
       "        -7.44704023e+04,  2.05204445e+05,  3.79991747e+05,\n",
       "         3.25771727e+05, -2.08729360e+05, -7.58230419e+04,\n",
       "         1.81828801e+05, -8.13412607e+04, -3.99651968e+05,\n",
       "        -5.32713486e+05, -3.03560652e+05,  3.33996140e+05,\n",
       "         6.93053722e+04],\n",
       "       [-2.64511154e+04, -2.77282649e+04, -3.20146962e+04,\n",
       "         2.35104269e+05,  5.70327277e+04,  2.03252944e+05,\n",
       "         1.76004968e+05,  1.38700634e+05,  8.20050104e+04,\n",
       "         1.94298946e+05, -6.68958210e+05, -3.73416789e+05,\n",
       "        -1.11105311e+06, -2.60052235e+05, -5.11471340e+05,\n",
       "        -2.59654828e+05, -3.13942766e+05, -2.74795373e+05,\n",
       "        -4.01074116e+04,  1.11294820e+05, -2.57845277e+05,\n",
       "         6.06175309e+05,  6.08240436e+05,  1.51048424e+06,\n",
       "         5.16885630e+05,  8.88847444e+05,  6.93053722e+04,\n",
       "         4.37558655e+05]])\n",
       "      jac: array([-1.06431544e-05, -4.42191958e-06,  8.97794962e-07, -6.33671880e-06,\n",
       "        3.29315662e-06, -5.52833080e-06,  8.97794962e-07,  9.08970833e-07,\n",
       "        6.23986125e-06, -9.09715891e-06,  3.98978591e-06, -7.26431608e-07,\n",
       "        4.61190939e-06, -6.98864460e-06,  7.18235970e-06, -4.58583236e-06,\n",
       "       -7.49528408e-06, -1.31428242e-05,  1.81421638e-06, -1.72518194e-05,\n",
       "        8.56071711e-06, -5.50970435e-06,  1.23307109e-05,  5.85615635e-06,\n",
       "        3.46079469e-06, -2.93180346e-06,  2.23927200e-05, -9.56282020e-06])\n",
       "  message: 'Maximum number of iterations has been exceeded.'\n",
       "     nfev: 11687\n",
       "      nit: 400\n",
       "     njev: 403\n",
       "   status: 1\n",
       "  success: False\n",
       "        x: array([   9.23797973,    6.17339611,    9.26533202,  -82.59508802,\n",
       "        -20.70781636,  -34.43489525,  -49.06899221,  -17.22374504,\n",
       "         21.79405917,  -28.76674689,  274.26747616,  122.31342189,\n",
       "        267.31903709,   36.66969585,   55.20970924,   93.82913237,\n",
       "         49.42288055,   27.53754009,   13.17553123,  -37.40971031,\n",
       "         54.55696849, -310.50610374, -219.14855757, -351.11920458,\n",
       "        -72.44936162, -318.40757926,  -70.79869389,  -72.35429177])"
      ]
     },
     "execution_count": 21,
     "metadata": {},
     "output_type": "execute_result"
    }
   ],
   "source": [
    "result = optimizeRegularFunction(initial_theta,train_X,y)\n",
    "result"
   ]
  },
  {
   "cell_type": "code",
   "execution_count": null,
   "metadata": {},
   "outputs": [],
   "source": []
  }
 ],
 "metadata": {
  "kernelspec": {
   "display_name": "Python 3",
   "language": "python",
   "name": "python3"
  },
  "language_info": {
   "codemirror_mode": {
    "name": "ipython",
    "version": 3
   },
   "file_extension": ".py",
   "mimetype": "text/x-python",
   "name": "python",
   "nbconvert_exporter": "python",
   "pygments_lexer": "ipython3",
   "version": "3.7.6"
  }
 },
 "nbformat": 4,
 "nbformat_minor": 4
}
